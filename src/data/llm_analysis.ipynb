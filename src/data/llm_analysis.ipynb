{
 "cells": [
  {
   "cell_type": "markdown",
   "id": "a0fe842a",
   "metadata": {},
   "source": [
    "# Mistral Test.csv Analysis"
   ]
  },
  {
   "cell_type": "code",
   "execution_count": 11,
   "id": "ffadb088",
   "metadata": {},
   "outputs": [],
   "source": [
    "import pandas as pd\n",
    "import numpy as np\n",
    "def load_data(file_path):\n",
    "    \"\"\"\n",
    "    Load data from a CSV file and return a DataFrame.\n",
    "    \n",
    "    Parameters:\n",
    "    file_path (str): The path to the CSV file.\n",
    "    \n",
    "    Returns:\n",
    "    pd.DataFrame: The loaded data as a DataFrame.\n",
    "    \"\"\"\n",
    "    try:\n",
    "        data = pd.read_csv(file_path)\n",
    "        return data\n",
    "    except Exception as e:\n",
    "        print(f\"Error loading data: {e}\")\n",
    "        return None\n",
    "df = load_data('evaluated_test.csv')"
   ]
  },
  {
   "cell_type": "code",
   "execution_count": null,
   "id": "e318c2af",
   "metadata": {},
   "outputs": [
    {
     "data": {
      "text/plain": [
       "' 1.'"
      ]
     },
     "execution_count": 18,
     "metadata": {},
     "output_type": "execute_result"
    }
   ],
   "source": []
  },
  {
   "cell_type": "code",
   "execution_count": null,
   "id": "1d5dfd34",
   "metadata": {},
   "outputs": [
    {
     "name": "stdout",
     "output_type": "stream",
     "text": [
      "Total wrong predictions: 844\n",
      "Total right predictions: 6887\n",
      "Total predictions: 7731\n",
      "Accuracy: 89.08%\n"
     ]
    }
   ],
   "source": [
    "wrong = 0\n",
    "for row, data in df.iterrows():\n",
    "    text = data['text']\n",
    "    label = str(data['label'])\n",
    "    predictions = data['predictions']\n",
    "    predictions = predictions.strip()[0]\n",
    "    if label != predictions:\n",
    "        wrong += 1\n",
    "        print(f\"Text: {text}\\nLabel: {label}\\nPrediction: {predictions}\\n\")\n",
    "        print(\"--------------------------------------------------\")\n",
    "print(f\"Total wrong predictions: {wrong}\")\n",
    "print(f\"Total right predictions: {len(df) - wrong}\")\n",
    "print(f\"Total predictions: {len(df)}\")\n",
    "print(f\"Accuracy: {100 * (len(df) - wrong) / len(df):.2f}%\")"
   ]
  }
 ],
 "metadata": {
  "kernelspec": {
   "display_name": "diss",
   "language": "python",
   "name": "python3"
  },
  "language_info": {
   "codemirror_mode": {
    "name": "ipython",
    "version": 3
   },
   "file_extension": ".py",
   "mimetype": "text/x-python",
   "name": "python",
   "nbconvert_exporter": "python",
   "pygments_lexer": "ipython3",
   "version": "3.10.16"
  }
 },
 "nbformat": 4,
 "nbformat_minor": 5
}
